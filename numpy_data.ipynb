{
 "cells": [
  {
   "cell_type": "markdown",
   "metadata": {},
   "source": [
    "Numpy Functions"
   ]
  },
  {
   "cell_type": "code",
   "execution_count": 20,
   "metadata": {},
   "outputs": [
    {
     "data": {
      "text/plain": [
       "array([5, 7, 3, 4, 1, 6])"
      ]
     },
     "execution_count": 20,
     "metadata": {},
     "output_type": "execute_result"
    }
   ],
   "source": [
    "import numpy as np\n",
    "#np.zeros(4)\n",
    "#np.array([0,1,2])\n",
    "#np.arange(4)\n",
    "#np.empty(2)\n",
    "#np.arange(2,9,2) \n",
    "#np.linspace(0,10, num=7)\n",
    "#x = np.ones(2 , dtype=np.int64)\n",
    "arr = np.array([5,7,3,4,1,6])\n",
    "#np.sort(arr)\n",
    "arr2 = np.array([2 , 8 , 10])\n",
    "#np.concatenate((arr , arr2), axis=0)\n",
    "#arr.ndim\n",
    "#arr.size\n",
    "#arr.shape\n",
    "#b = arr[arr<6]\n",
    "#arr3 = arr.copy()\n",
    "#arr3*arr\n",
    "#.min() , .max(), .sum()\n",
    "#arr.min(axis=0) - arr should be multidim\n",
    "#rng = np.random.default_rng()  # the simplest way to generate random numbers #rng.random(3)\n",
    "#rng.integers(5 , size=(4,2))\n",
    "#np.unique(array_name)\n",
    "#arr.transpose()\n",
    "#a = np.flip(arr) #Reverse\n",
    "#.flatten()\n",
    "# ? - Info about the object , ?? - Source code\n",
    "arr"
   ]
  }
 ],
 "metadata": {
  "kernelspec": {
   "display_name": "Python 3",
   "language": "python",
   "name": "python3"
  },
  "language_info": {
   "codemirror_mode": {
    "name": "ipython",
    "version": 3
   },
   "file_extension": ".py",
   "mimetype": "text/x-python",
   "name": "python",
   "nbconvert_exporter": "python",
   "pygments_lexer": "ipython3",
   "version": "3.10.8"
  }
 },
 "nbformat": 4,
 "nbformat_minor": 2
}
